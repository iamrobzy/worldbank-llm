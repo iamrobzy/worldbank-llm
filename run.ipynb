{
 "cells": [
  {
   "cell_type": "code",
   "execution_count": 2,
   "metadata": {},
   "outputs": [
    {
     "ename": "ModuleNotFoundError",
     "evalue": "No module named 'llm4data'",
     "output_type": "error",
     "traceback": [
      "\u001b[0;31m---------------------------------------------------------------------------\u001b[0m",
      "\u001b[0;31mModuleNotFoundError\u001b[0m                       Traceback (most recent call last)",
      "Cell \u001b[0;32mIn[2], line 1\u001b[0m\n\u001b[0;32m----> 1\u001b[0m \u001b[38;5;28;01mfrom\u001b[39;00m \u001b[38;5;21;01mllm4data\u001b[39;00m\u001b[38;5;21;01m.\u001b[39;00m\u001b[38;5;21;01mprompts\u001b[39;00m\u001b[38;5;21;01m.\u001b[39;00m\u001b[38;5;21;01mindicators\u001b[39;00m \u001b[38;5;28;01mimport\u001b[39;00m wdi\n\u001b[1;32m      3\u001b[0m \u001b[38;5;66;03m# Create a WDI API prompt object\u001b[39;00m\n\u001b[1;32m      4\u001b[0m wdi_api \u001b[38;5;241m=\u001b[39m wdi\u001b[38;5;241m.\u001b[39mWDIAPIPrompt()\n",
      "\u001b[0;31mModuleNotFoundError\u001b[0m: No module named 'llm4data'"
     ]
    }
   ],
   "source": [
    "from llm4data.prompts.indicators import wdi\n",
    "\n",
    "# Create a WDI API prompt object\n",
    "wdi_api = wdi.WDIAPIPrompt()\n",
    "\n",
    "# Send a prompt to the LLM to get a WDI API URL relevant to the prompt\n",
    "response = wdi_api.send_prompt(\n",
    "    \"What is the gdp and the co2 emissions of the philippines and its neighbors in the last decade?\"\n",
    ")\n",
    "\n",
    "# Parse the response to get the WDI API URL\n",
    "wdi_api_url = wdi_api.parse_response(response)\n",
    "print(wdi_api_url)"
   ]
  },
  {
   "cell_type": "code",
   "execution_count": null,
   "metadata": {},
   "outputs": [],
   "source": [
    "echo \"# worldbank-llm\" >> README.md\n",
    "git init\n",
    "git add README.md\n",
    "git add . \n",
    "git commit -m \"first commit\"\n",
    "git branch -M main\n",
    "git remote add origin git@github.com:iamrobzy/worldbank-llm.git\n",
    "git push -u origin main"
   ]
  }
 ],
 "metadata": {
  "kernelspec": {
   "display_name": ".venv",
   "language": "python",
   "name": "python3"
  },
  "language_info": {
   "codemirror_mode": {
    "name": "ipython",
    "version": 3
   },
   "file_extension": ".py",
   "mimetype": "text/x-python",
   "name": "python",
   "nbconvert_exporter": "python",
   "pygments_lexer": "ipython3",
   "version": "3.12.4"
  }
 },
 "nbformat": 4,
 "nbformat_minor": 2
}
